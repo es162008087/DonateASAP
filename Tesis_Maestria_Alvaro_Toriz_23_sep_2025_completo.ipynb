{
  "cells": [
    {
      "cell_type": "markdown",
      "metadata": {
        "id": "view-in-github",
        "colab_type": "text"
      },
      "source": [
        "<a href=\"https://colab.research.google.com/github/es162008087/DonateASAP/blob/main/Tesis_Maestria_Alvaro_Toriz_23_sep_2025_completo.ipynb\" target=\"_parent\"><img src=\"https://colab.research.google.com/assets/colab-badge.svg\" alt=\"Open In Colab\"/></a>"
      ]
    },
    {
      "cell_type": "code",
      "execution_count": null,
      "id": "a8c371c9",
      "metadata": {
        "id": "a8c371c9"
      },
      "outputs": [],
      "source": [
        "import os\n",
        "import subprocess\n",
        "import pandas as pd\n",
        "import chardet\n",
        "\n",
        "from sklearn.model_selection import train_test_split\n",
        "from sklearn.feature_extraction.text import TfidfVectorizer\n",
        "from sklearn.naive_bayes import MultinomialNB\n",
        "from sklearn.svm import SVC\n",
        "from sklearn.tree import DecisionTreeClassifier\n",
        "from sklearn.ensemble import RandomForestClassifier, GradientBoostingClassifier\n",
        "from sklearn.neural_network import MLPClassifier\n",
        "from sklearn.metrics import accuracy_score, precision_score, recall_score, f1_score, confusion_matrix\n",
        "import joblib\n",
        "import matplotlib.pyplot as plt\n",
        "import seaborn as sns\n"
      ]
    },
    {
      "cell_type": "code",
      "execution_count": null,
      "id": "ca1cdecc",
      "metadata": {
        "colab": {
          "base_uri": "https://localhost:8080/"
        },
        "id": "ca1cdecc",
        "outputId": "21512252-cecf-4d31-a670-92272fc7d1fb"
      },
      "outputs": [
        {
          "output_type": "stream",
          "name": "stdout",
          "text": [
            "Descargando enron1.tar.gz...\n",
            "Extrayendo enron1.tar.gz...\n",
            "enron1.tar.gz extraído correctamente.\n",
            "Descargando enron2.tar.gz...\n",
            "Extrayendo enron2.tar.gz...\n",
            "enron2.tar.gz extraído correctamente.\n",
            "Descargando enron3.tar.gz...\n",
            "Extrayendo enron3.tar.gz...\n",
            "enron3.tar.gz extraído correctamente.\n",
            "Descargando enron4.tar.gz...\n",
            "Extrayendo enron4.tar.gz...\n",
            "enron4.tar.gz extraído correctamente.\n",
            "Descargando enron5.tar.gz...\n",
            "Extrayendo enron5.tar.gz...\n",
            "enron5.tar.gz extraído correctamente.\n",
            "Descargando enron6.tar.gz...\n",
            "Extrayendo enron6.tar.gz...\n",
            "enron6.tar.gz extraído correctamente.\n"
          ]
        }
      ],
      "source": [
        "enron_urls = [\n",
        "    'http://nlp.cs.aueb.gr/software_and_datasets/Enron-Spam/preprocessed/enron1.tar.gz',\n",
        "    'http://nlp.cs.aueb.gr/software_and_datasets/Enron-Spam/preprocessed/enron2.tar.gz',\n",
        "    'http://nlp.cs.aueb.gr/software_and_datasets/Enron-Spam/preprocessed/enron3.tar.gz',\n",
        "    'http://nlp.cs.aueb.gr/software_and_datasets/Enron-Spam/preprocessed/enron4.tar.gz',\n",
        "    'http://nlp.cs.aueb.gr/software_and_datasets/Enron-Spam/preprocessed/enron5.tar.gz',\n",
        "    'http://nlp.cs.aueb.gr/software_and_datasets/Enron-Spam/preprocessed/enron6.tar.gz'\n",
        "]\n",
        "\n",
        "for url in enron_urls:\n",
        "    filename = url.split('/')[-1]\n",
        "    folder = filename.replace('.tar.gz', '')\n",
        "\n",
        "    if not os.path.exists(filename):\n",
        "        print(f'Descargando {filename}...')\n",
        "        subprocess.run(['wget', url, '-O', filename], check=True)\n",
        "\n",
        "    if not os.path.exists(folder):\n",
        "        print(f'Extrayendo {filename}...')\n",
        "        subprocess.run(['tar', 'xf', filename], check=True)\n",
        "        print(f'{filename} extraído correctamente.')\n"
      ]
    },
    {
      "cell_type": "code",
      "execution_count": null,
      "id": "1e194319",
      "metadata": {
        "colab": {
          "base_uri": "https://localhost:8080/"
        },
        "id": "1e194319",
        "outputId": "7b6a260b-7b16-4e15-8223-161379714981"
      },
      "outputs": [
        {
          "output_type": "stream",
          "name": "stdout",
          "text": [
            "Dataset de Enron guardado como emails.csv\n"
          ]
        }
      ],
      "source": [
        "data = {'subject': [], 'body': [], 'classification': []}\n",
        "\n",
        "for i in range(1, 7):\n",
        "    enron_dir = f'enron{i}'\n",
        "    spam_dir = os.path.join(enron_dir, 'spam')\n",
        "    ham_dir = os.path.join(enron_dir, 'ham')\n",
        "\n",
        "    for dir_path, _, file_names in os.walk(spam_dir):\n",
        "        for file_name in file_names:\n",
        "            file_path = os.path.join(dir_path, file_name)\n",
        "            with open(file_path, 'rb') as f:\n",
        "                result = chardet.detect(f.read())\n",
        "                encoding = result['encoding']\n",
        "            with open(file_path, 'r', encoding=encoding, errors='ignore') as f:\n",
        "                subject = f.readline().strip()\n",
        "                body = f.read().strip()\n",
        "            data['subject'].append(subject)\n",
        "            data['body'].append(body)\n",
        "            data['classification'].append('spam')\n",
        "\n",
        "    for dir_path, _, file_names in os.walk(ham_dir):\n",
        "        for file_name in file_names:\n",
        "            file_path = os.path.join(dir_path, file_name)\n",
        "            with open(file_path, 'rb') as f:\n",
        "                result = chardet.detect(f.read())\n",
        "                encoding = result['encoding']\n",
        "            with open(file_path, 'r', encoding=encoding, errors='ignore') as f:\n",
        "                subject = f.readline().strip()\n",
        "                body = f.read().strip()\n",
        "            data['subject'].append(subject)\n",
        "            data['body'].append(body)\n",
        "            data['classification'].append('ham')\n",
        "\n",
        "df = pd.DataFrame(data)\n",
        "df.to_csv('emails.csv', index=False)\n",
        "print('Dataset de Enron guardado como emails.csv')\n"
      ]
    },
    {
      "cell_type": "code",
      "execution_count": null,
      "id": "02aa68f6",
      "metadata": {
        "colab": {
          "base_uri": "https://localhost:8080/"
        },
        "id": "02aa68f6",
        "outputId": "0c88acbc-55e8-4b9c-d05d-a825e1498177"
      },
      "outputs": [
        {
          "output_type": "stream",
          "name": "stdout",
          "text": [
            "Métricas de evaluación:\n",
            "                   Accuracy  Precision    Recall  F1-Score\n",
            "Naive_Bayes        0.986653   0.988318  0.985440  0.986877\n",
            "SVM                0.988433   0.981078  0.996506  0.988732\n",
            "Decision_Tree      0.955314   0.954010  0.958455  0.956227\n",
            "Random_Forest      0.982897   0.981804  0.984663  0.983232\n",
            "MLP                0.991498   0.989751  0.993593  0.991668\n",
            "Gradient_Boosting  0.956401   0.931635  0.986799  0.958424\n"
          ]
        }
      ],
      "source": [
        "X_train, X_test, y_train, y_test = train_test_split(df['body'], df['classification'], test_size=0.3, random_state=42, stratify=df['classification'])\n",
        "\n",
        "vectorizer = TfidfVectorizer()\n",
        "X_train_vectorized = vectorizer.fit_transform(X_train)\n",
        "X_test_vectorized = vectorizer.transform(X_test)\n",
        "\n",
        "modelos = {\n",
        "    'Naive_Bayes': MultinomialNB(),\n",
        "    'SVM': SVC(probability=True),\n",
        "    'Decision_Tree': DecisionTreeClassifier(),\n",
        "    'Random_Forest': RandomForestClassifier(),\n",
        "    'MLP': MLPClassifier(hidden_layer_sizes=(30,), max_iter=300, solver='adam', random_state=42),\n",
        "    'Gradient_Boosting': GradientBoostingClassifier()\n",
        "}\n",
        "\n",
        "metricas = {}\n",
        "\n",
        "for nombre, modelo in modelos.items():\n",
        "    modelo.fit(X_train_vectorized, y_train)\n",
        "    y_pred = modelo.predict(X_test_vectorized)\n",
        "    metricas[nombre] = {\n",
        "        'Accuracy': accuracy_score(y_test, y_pred),\n",
        "        'Precision': precision_score(y_test, y_pred, pos_label='spam', zero_division=1),\n",
        "        'Recall': recall_score(y_test, y_pred, pos_label='spam', zero_division=1),\n",
        "        'F1-Score': f1_score(y_test, y_pred, pos_label='spam', zero_division=1)\n",
        "    }\n",
        "    joblib.dump(modelo, f'{nombre}.joblib')\n",
        "\n",
        "joblib.dump(vectorizer, 'vectorizer.joblib')\n",
        "\n",
        "df_metricas = pd.DataFrame(metricas).T\n",
        "print('Métricas de evaluación:')\n",
        "print(df_metricas)\n"
      ]
    },
    {
      "cell_type": "code",
      "execution_count": null,
      "id": "4a95bd69",
      "metadata": {
        "colab": {
          "base_uri": "https://localhost:8080/"
        },
        "id": "4a95bd69",
        "outputId": "e233e71c-ac96-43ab-b7b9-911583b39a78"
      },
      "outputs": [
        {
          "output_type": "display_data",
          "data": {
            "text/plain": [
              "<Figure size 1000x600 with 1 Axes>"
            ],
            "image/png": "[encoded data removed]"
          },
          "metadata": {}
        }
      ],
      "source": [
        "df_metricas.plot(kind='bar', figsize=(10, 6), colormap='viridis')\n",
        "plt.title('Desempeño de los modelos')\n",
        "plt.ylabel('Valor')\n",
        "plt.xticks(rotation=45)\n",
        "plt.grid(axis='y')\n",
        "plt.tight_layout()\n",
        "plt.savefig('metricas_modelos.png')\n",
        "plt.show()\n"
      ]
    },
    {
      "cell_type": "code",
      "execution_count": null,
      "id": "36a2f88f",
      "metadata": {
        "colab": {
          "base_uri": "https://localhost:8080/"
        },
        "id": "36a2f88f",
        "outputId": "b5db2854-70d1-4fd7-87e8-1e6da1a420b8"
      },
      "outputs": [
        {
          "output_type": "stream",
          "name": "stdout",
          "text": [
            "Matrices de confusión guardadas en carpeta 'matrices_confusion'.\n"
          ]
        }
      ],
      "source": [
        "os.makedirs(\"matrices_confusion\", exist_ok=True)\n",
        "\n",
        "for nombre, modelo in modelos.items():\n",
        "    y_pred = modelo.predict(X_test_vectorized)\n",
        "    cm = confusion_matrix(y_test, y_pred, labels=['ham', 'spam'])\n",
        "\n",
        "    plt.figure(figsize=(5, 4))\n",
        "    sns.heatmap(cm, annot=True, fmt='d', cmap='Blues', xticklabels=['ham', 'spam'], yticklabels=['ham', 'spam'])\n",
        "    plt.title(f'Matriz de confusión - {nombre.replace(\"_\", \" \")}')\n",
        "    plt.xlabel('Etiqueta de predicción')\n",
        "    plt.ylabel('Etiqueta real')\n",
        "    plt.tight_layout()\n",
        "    filename = f'matrices_confusion/matriz_{nombre}.png'\n",
        "    plt.savefig(filename)\n",
        "    plt.close()\n",
        "\n",
        "print(\"Matrices de confusión guardadas en carpeta 'matrices_confusion'.\")\n"
      ]
    }
  ],
  "metadata": {
    "colab": {
      "provenance": [],
      "include_colab_link": true
    },
    "language_info": {
      "name": "python"
    },
    "kernelspec": {
      "name": "python3",
      "display_name": "Python 3"
    }
  },
  "nbformat": 4,
  "nbformat_minor": 5
}